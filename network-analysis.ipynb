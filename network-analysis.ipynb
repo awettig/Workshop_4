{
 "cells": [
  {
   "cell_type": "code",
   "execution_count": 3,
   "id": "46ab9183-9842-4478-b1bb-991548767f3e",
   "metadata": {},
   "outputs": [],
   "source": [
    "# Alternative shortest path algorithm: A* Algorithm"
   ]
  },
  {
   "cell_type": "code",
   "execution_count": 4,
   "id": "050badbe-850b-42c3-8871-4f823b28b247",
   "metadata": {},
   "outputs": [
    {
     "name": "stdout",
     "output_type": "stream",
     "text": [
      "[1, 2, 3]\n",
      "[(1, 2)]\n"
     ]
    },
    {
     "data": {
      "image/png": "[encoded data removed]",
      "text/plain": [
       "<Figure size 640x480 with 1 Axes>"
      ]
     },
     "metadata": {},
     "output_type": "display_data"
    }
   ],
   "source": [
    "import networkx as nx\n",
    "\n",
    "# Create an empty, undirected graph\n",
    "G = nx.Graph()\n",
    "\n",
    "# Add nodes and an edge\n",
    "G.add_nodes_from([1, 2, 3])\n",
    "G.add_edge(1, 2)\n",
    "\n",
    "# Inspect nodes and edges\n",
    "print(G.nodes())    # → [1, 2, 3]\n",
    "print(G.edges())    # → [(1, 2)]\n",
    "\n",
    "# Attach metadata\n",
    "G.nodes[1][\"label\"] = \"blue\"\n",
    "\n",
    "# Basic visualisation (requires matplotlib.pyplot as plt)\n",
    "nx.draw(G)"
   ]
  },
  {
   "cell_type": "code",
   "execution_count": 5,
   "id": "966cbec2-74fe-4f89-bd0f-ea534bf32d71",
   "metadata": {},
   "outputs": [],
   "source": [
    "# The documentation of the A*-algorithm can be found here: https://networkx.org/documentation/stable/reference/algorithms/shortest_paths.html#module-networkx.algorithms.shortest_paths.astar\n"
   ]
  },
  {
   "cell_type": "code",
   "execution_count": null,
   "id": "5ba34bf9-6166-46c8-ac18-7e6ce2b9089e",
   "metadata": {},
   "outputs": [],
   "source": [
    "import osmnx \n",
    "PLACE_NAME = \"Bernkastel-Kues, Germany\"\n",
    "graph = osmnx.graph_from_place(\n",
    "    \"Bernkastel-Kues, Germany\",\n",
    "    network_type=\"bike\"\n",
    ")\n",
    "figure, ax = osmnx.plot_graph(graph)"
   ]
  },
  {
   "cell_type": "code",
   "execution_count": null,
   "id": "e9cdbff8-81e3-482c-9cff-148b0ef96a94",
   "metadata": {},
   "outputs": [],
   "source": [
    "# Get the area of interest polygon\n",
    "place_polygon = osmnx.geocode_to_gdf(PLACE_NAME)\n",
    "\n",
    "# Re-project the polygon to a local projected CRS (so that the CRS unit is meters)\n",
    "place_polygon = place_polygon.to_crs(\"EPSG:3067\")\n",
    "\n",
    "# Buffer by 200 meters\n",
    "place_polygon[\"geometry\"] = place_polygon.buffer(200)\n",
    "\n",
    "# Re-project the polygon back to WGS84 (required by OSMnx)\n",
    "place_polygon = place_polygon.to_crs(\"EPSG:4326\")\n",
    "\n",
    "# Retrieve the network graph\n",
    "graph = osmnx.graph_from_polygon(\n",
    "    place_polygon.at[0, \"geometry\"],\n",
    "    network_type=\"bike\"\n",
    ")\n",
    "\n",
    "fig, ax = osmnx.plot_graph(graph)"
   ]
  },
  {
   "cell_type": "code",
   "execution_count": null,
   "id": "eeb58de0-1630-48c5-b6af-138cf1092008",
   "metadata": {},
   "outputs": [],
   "source": [
    "# Show the data\n",
    "# Retrieve only edges from the graph\n",
    "edges = osmnx.graph_to_gdfs(graph, nodes=False, edges=True)\n",
    "edges.head()"
   ]
  },
  {
   "cell_type": "code",
   "execution_count": null,
   "id": "903efa00-d268-4f97-bf60-ef1bc3f00217",
   "metadata": {},
   "outputs": [],
   "source": [
    "# listing of all the different amounts of street-types\n",
    "edges[\"highway\"].value_counts()"
   ]
  },
  {
   "cell_type": "code",
   "execution_count": null,
   "id": "cb84276e-e7d2-4fd0-b967-7e693c96fd63",
   "metadata": {},
   "outputs": [],
   "source": [
    "# Transform the graph to UTM\n",
    "graph = osmnx.project_graph(graph) \n",
    "\n",
    "# Extract reprojected nodes and edges\n",
    "nodes, edges = osmnx.graph_to_gdfs(graph)\n",
    "\n",
    "nodes.crs"
   ]
  },
  {
   "cell_type": "code",
   "execution_count": 7,
   "id": "bf98cdf6-4b2f-42ee-8532-b804cdd66cd2",
   "metadata": {},
   "outputs": [],
   "source": [
    "## 2. Analysing network properties"
   ]
  },
  {
   "cell_type": "code",
   "execution_count": null,
   "id": "7bfa789e-65ef-4382-8413-56bcc6b52c36",
   "metadata": {},
   "outputs": [],
   "source": [
    "# Calculate network statistics\n",
    "osmnx.basic_stats(graph)"
   ]
  },
  {
   "cell_type": "code",
   "execution_count": null,
   "id": "ed6438f6-0671-46ac-98b7-a463e786c56f",
   "metadata": {},
   "outputs": [],
   "source": [
    "convex_hull = edges.geometry.union_all().convex_hull\n",
    "convex_hull\n",
    "stats = osmnx.basic_stats(graph, area=convex_hull.area)\n",
    "stats"
   ]
  },
  {
   "cell_type": "code",
   "execution_count": null,
   "id": "ea3437ee-ea9a-49c7-bd58-9a4c3ce9e717",
   "metadata": {},
   "outputs": [],
   "source": [
    "# Task 2.1\n",
    "# 1. Calculate the total length of streets classified as residential, primary, and secondary.\n",
    "# 2. Compare the mean length for each class.\n",
    "# 3. Visualise the five longest street classes in a bar chart.\n",
    "\n",
    "nodes, edges = osmnx.graph_to_gdfs(graph)\n",
    "edges = edges.explode(\"highway\")\n",
    "\n",
    "# 1. Calculate the total length of streets classified as residential, primary, and secondary. \n",
    "\n",
    "# filter for the wanted classes\n",
    "selected_classes = ['residential', 'primary', 'secondary']\n",
    "\n",
    "lengths_by_class = edges.groupby('highway')['length'].sum()\n",
    "\n",
    "# select the tree classes\n",
    "selected_lengths = lengths_by_class[selected_classes]\n",
    "\n",
    "print(\"Total lenghts:\")\n",
    "print(selected_lengths)\n",
    "\n",
    "# 2. Compare the mean length for each class.\n",
    "means_by_class = edges.groupby('highway')['length'].mean()\n",
    "selected_means = means_by_class[selected_classes]\n",
    "print()\n",
    "print('The mean lenghts of the streets of the tree classes are:')\n",
    "print(selected_means)\n",
    "\n",
    "typ_sorted = selected_means.sort_values()\n",
    "print('The shortest is ', typ_sorted.index[0], ' The longest is ', typ_sorted.index[2])\n",
    "\n",
    "# 3.Visualise the five longest street classes in a bar chart.\n",
    "import matplotlib.pyplot as plt\n",
    "lengths_by_all_classes = edges.groupby('highway')['length'].sum()\n",
    "longest_classes = (lengths_by_all_classes.sort_values(ascending=False)[0:5])/1000\n",
    "print()\n",
    "print('The longest classes are: ',longest_classes)\n",
    "longest_classes.plot(kind='bar', figsize=(10, 6))\n",
    "plt.title(\"Top 5 street classes with the biggest total lenght\")\n",
    "plt.ylabel(\"Total lenght (km)\")"
   ]
  },
  {
   "cell_type": "code",
   "execution_count": null,
   "id": "8c1e0b48-d6e0-4a37-bcdd-398ebab44080",
   "metadata": {},
   "outputs": [],
   "source": [
    "import math\n",
    "import myst_nb\n",
    "\n",
    "myst_nb.glue(\"node_density_km\", round(stats[\"node_density_km\"], 1))\n",
    "myst_nb.glue(\"edge_length_total\", math.floor(stats[\"edge_length_total\"] / 1000))"
   ]
  },
  {
   "cell_type": "code",
   "execution_count": null,
   "id": "3d1676bc-dda0-4f7a-9b60-99fa2de3579c",
   "metadata": {},
   "outputs": [],
   "source": [
    "# 3. Shortest path analysis"
   ]
  },
  {
   "cell_type": "code",
   "execution_count": null,
   "id": "0e6ad0bf-44d8-4da9-aa82-0683ca121636",
   "metadata": {},
   "outputs": [],
   "source": [
    "origin = (\n",
    "    osmnx.geocode_to_gdf(\"Bernkastler Graben, bernkastel-kues, Germany\")  # fetch geolocation\n",
    "    .to_crs(edges.crs)  # transform to UTM\n",
    "    .at[0, \"geometry\"]  # pick geometry of first row\n",
    "    .centroid  # use the centre point\n",
    ")\n",
    "\n",
    "destination = (\n",
    "    osmnx.geocode_to_gdf(\"Friedhof Kues, bernkastel-kues\")\n",
    "    .to_crs(edges.crs)\n",
    "    .at[0, \"geometry\"]\n",
    "    .centroid\n",
    ")"
   ]
  },
  {
   "cell_type": "code",
   "execution_count": null,
   "id": "6925f9fb-2bb5-4d7e-b3d3-6ec9e72e5a99",
   "metadata": {},
   "outputs": [],
   "source": [
    "# nearest node to the start and the end\n",
    "origin_node_id = osmnx.nearest_nodes(graph, origin.x, origin.y)\n",
    "destination_node_id = osmnx.nearest_nodes(graph, destination.x, destination.y)"
   ]
  },
  {
   "cell_type": "code",
   "execution_count": null,
   "id": "4a5544d0-3a93-4581-a64d-d1900e7d97dd",
   "metadata": {},
   "outputs": [],
   "source": [
    "# Find the shortest path between origin and destination\n",
    "route = osmnx.shortest_path(graph, origin_node_id, destination_node_id)\n",
    "# Plot the shortest path\n",
    "fig, ax = osmnx.plot_graph_route(graph, route)"
   ]
  },
  {
   "cell_type": "code",
   "execution_count": null,
   "id": "a1b3499f-2630-4f23-b43f-d3c801143955",
   "metadata": {},
   "outputs": [],
   "source": [
    "# Task 3.4 \n",
    "# 1. Calculate a second route that avoids motorway and trunk streets.\n",
    "# 2. Compare its length with the original shortest route.\n",
    "# 3. Discuss in one sentence why constrained routes can be useful for certain users.\n",
    "\n",
    "# 1. Calculate a second route that avoids motorway and trunk streets.\n",
    "import osmnx as ox\n",
    "\n",
    "# 1. Calculate a second route that avoids motorway and trunk streets.\n",
    "unwanted_classes = ['motorway', 'trunk']\n",
    "\n",
    "# Setting the weight of the unwanted classes so high, that they are not used\n",
    "for u, v, k, data in graph.edges(keys=True, data=True):\n",
    "    # Normalize 'highway' to a list\n",
    "    hw = data.get('highway', [])\n",
    "    if isinstance(hw, str):\n",
    "        hw = [hw]\n",
    "    \n",
    "    # Assign weight\n",
    "    data['weight'] = 999 if any(h in unwanted_classes for h in hw) else 1\n",
    "\n",
    "# edges = ox.graph_to_gdfs(graph, nodes=False)  \n",
    "# print(edges)\n",
    "\n",
    "# Calculate the route avoiding motorways/trunks\n",
    "route_reduced = ox.shortest_path(graph, origin_node_id, destination_node_id, weight=\"weight\")\n",
    "fig, ax = osmnx.plot_graph_route(graph, route_reduced)\n",
    "\n",
    "# 2. Compare its length with the original shortest route.\n",
    "original_route_2 = ox.routing.route_to_gdf(graph, route)\n",
    "length_ori = original_route_2[\"length\"].sum()/1000\n",
    "print('The lenght of the original route is ', round(length_ori,3), ' km')\n",
    "\n",
    "alt_route_2 = ox.routing.route_to_gdf(graph, route_reduced, weight=\"weight\")\n",
    "length_alt = alt_route_2[\"length\"].sum()/1000\n",
    "print('The lenght of the alternative route is ',  round(length_alt, 3), ' km')\n",
    "\n",
    "### A* Algorithm ###\n",
    "route_A = nx.astar_path(graph, origin_node_id, destination_node_id, heuristic=None, weight=\"length\")\n",
    "route_A_lenght = nx.astar_path_length(graph, origin_node_id, destination_node_id, heuristic=None, weight=\"length\")\n",
    "print('The route calculated with the A* algorithm is ',round(route_A_lenght/1000, 3), ' km.')\n",
    "# fig, ax = osmnx.plot_graph_route(graph, route_A)\n",
    "\n",
    "# 3. Discuss in one sentence why constrained routes can be useful for certain user\n",
    "print('It is practical for a lot of usecases: Here I can imagine that a pedestrian wants to take a quiet walk, because the day is quite nice.')\n"
   ]
  },
  {
   "cell_type": "code",
   "execution_count": null,
   "id": "2e97ad7d-67c5-4347-8477-96a9dbcb542f",
   "metadata": {},
   "outputs": [],
   "source": [
    "# Saving the shortest path\n",
    "# Get the nodes along the shortest path\n",
    "route_nodes = nodes.loc[route]\n",
    "\n",
    "import shapely.geometry\n",
    "\n",
    "# Create a geometry for the shortest path\n",
    "route_line = shapely.geometry.LineString(\n",
    "    list(route_nodes.geometry.values)\n",
    ")\n",
    "route_line\n",
    "\n",
    "import geopandas\n",
    "\n",
    "route_geom = geopandas.GeoDataFrame(\n",
    "    {\n",
    "        \"geometry\": [route_line],\n",
    "        \"osm_nodes\": [route],\n",
    "    },\n",
    "    crs=edges.crs\n",
    ")\n",
    "\n",
    "# Calculate the route length\n",
    "route_geom[\"length_m\"] = route_geom.length\n",
    "\n",
    "route_geom.head()\n",
    "\n"
   ]
  },
  {
   "cell_type": "code",
   "execution_count": null,
   "id": "56a49c71-1eb2-4084-a1ec-79aeb89db29f",
   "metadata": {},
   "outputs": [],
   "source": [
    "# download buildings\n",
    "buildings = osmnx.features_from_place(\n",
    "    PLACE_NAME,\n",
    "    {\n",
    "        \"building\" : True\n",
    "    }\n",
    ").to_crs(edges.crs)buildings = osmnx.features_from_place(\n",
    "    PLACE_NAME,\n",
    "    {\n",
    "        \"building\" : True\n",
    "    }\n",
    ").to_crs(edges.crs)"
   ]
  },
  {
   "cell_type": "code",
   "execution_count": null,
   "id": "b6d012ac-12ca-4588-8c11-b88215d84892",
   "metadata": {},
   "outputs": [],
   "source": [
    "import contextily\n",
    "import matplotlib.pyplot\n",
    "\n",
    "fig, ax = matplotlib.pyplot.subplots(figsize=(12,8))\n",
    "\n",
    "# Plot edges and nodes\n",
    "edges.plot(ax=ax, linewidth=0.75, color='gray')\n",
    "nodes.plot(ax=ax, markersize=2, color='gray')\n",
    "\n",
    "# Add buildings\n",
    "ax = buildings.plot(ax=ax, facecolor='lightgray', alpha=0.7)\n",
    "\n",
    "# Add the route\n",
    "ax = route_geom.plot(ax=ax, linewidth=2, linestyle='--', color='red')\n",
    "\n",
    "# Add basemap\n",
    "contextily.add_basemap(ax, crs=buildings.crs, source=contextily.providers.CartoDB.Positron)"
   ]
  },
  {
   "cell_type": "code",
   "execution_count": null,
   "id": "853dba69-9568-4f2d-a509-723f0f674f3c",
   "metadata": {},
   "outputs": [],
   "source": [
    "# see the information about the edges:\n",
    "# edges.head()\n",
    "# Columns with invalid values\n",
    "problematic_columns = [\n",
    "    \"osmid\",\n",
    "    \"lanes\",\n",
    "    \"name\",\n",
    "    \"highway\",\n",
    "    \"width\",\n",
    "    \"maxspeed\",\n",
    "    \"reversed\",\n",
    "    \"junction\",\n",
    "    \"bridge\",\n",
    "    \"tunnel\",\n",
    "    \"access\",\n",
    "    \"service\",\n",
    "    \n",
    "]\n",
    "\n",
    "#  convert selected columns to string format\n",
    "edges[problematic_columns] = edges[problematic_columns].astype(str)\n"
   ]
  },
  {
   "cell_type": "code",
   "execution_count": null,
   "id": "359b39f9-0eef-4872-8cdf-1e0a0f06c984",
   "metadata": {},
   "outputs": [],
   "source": [
    "# save the data\n",
    "import pathlib\n",
    "NOTEBOOK_PATH = pathlib.Path().resolve()\n",
    "DATA_DIRECTORY = NOTEBOOK_PATH / \"data\"\n",
    "DATA_DIRECTORY.mkdir(parents=True, exist_ok=True)"
   ]
  },
  {
   "cell_type": "code",
   "execution_count": null,
   "id": "4a2d0dd7-493b-4d97-804b-f70e223ac73f",
   "metadata": {},
   "outputs": [],
   "source": [
    "# Task 4 \n",
    "# 1. Create a 50 m buffer around the route and select buildings intersecting it.\n",
    "# 2. Count buildings both in total and by building tag within this corridor.\n",
    "# 3. Export the result to buildings_along_route.geojson.\n",
    "import geopandas as gpd\n",
    "from shapely.geometry import LineString\n",
    "\n",
    "### 1. Buffer ###\n",
    "# Convert the graph edges into a GeoDataFrame\n",
    "edges = ox.graph_to_gdfs(graph, nodes=False)\n",
    "\n",
    "# Get geometry of each edge in the route\n",
    "edge_geometries = []\n",
    "for u, v in zip(route[:-1], route[1:]):\n",
    "    data = graph.get_edge_data(u, v)\n",
    "    \n",
    "    # If multiple edges (MultiDiGraph), take the first one\n",
    "    edge_data = data[0] if isinstance(data, dict) else list(data.values())[0]\n",
    "\n",
    "    # Append geometry if available\n",
    "    if 'geometry' in edge_data:\n",
    "        edge_geometries.append(edge_data['geometry'])\n",
    "    else:\n",
    "        # Create straight line between nodes\n",
    "        point_u = graph.nodes[u]\n",
    "        point_v = graph.nodes[v]\n",
    "        edge_geometries.append(LineString([(point_u['x'], point_u['y']), (point_v['x'], point_v['y'])]))\n",
    "\n",
    "# Merge all edge geometries into a single (Multi-)LineString\n",
    "route_geom = edge_geometries[0]\n",
    "for geom in edge_geometries[1:]:\n",
    "    route_geom = route_geom.union(geom)\n",
    "\n",
    "# Create GeoDataFrame and the buffer\n",
    "gdf_route = gpd.GeoDataFrame(geometry=[route_geom], crs=edges.crs)\n",
    "buffer_geom = gdf_route.buffer(50)  # in meters\n",
    "\n",
    "# Plot\n",
    "fig, ax = plt.subplots(figsize=(12, 8))\n",
    "edges.plot(ax=ax, linewidth=0.5, color='gray')\n",
    "nodes.plot(ax=ax, markersize=2, color='gray')\n",
    "gdf_route.plot(ax=ax, linewidth=2, color='blue')\n",
    "buffer_geom.plot(ax=ax, facecolor='red', alpha=0.7)\n",
    "contextily.add_basemap(ax, crs=edges.crs, source=contextily.providers.CartoDB.Positron) # basemap\n",
    "\n",
    "### 2. Count of the buildings ###\n",
    "from shapely.geometry import Polygon, MultiPolygon\n",
    "\n",
    "# Keep only Polygon and MultiPolygon geometries, because earlier I had an error about the different geometry types\n",
    "buildings = buildings[buildings.geometry.type.isin(['Polygon', 'MultiPolygon'])]\n",
    "\n",
    "buffer_gdf = gpd.GeoDataFrame(geometry=buffer_geom, crs=edges.crs)\n",
    "buildings_along_route = gpd.overlay(buildings, buffer_gdf, how='intersection')\n",
    "\n",
    "# Count\n",
    "total_buildings = len(buildings_along_route)\n",
    "print(f\"Total buildings in buffer: {total_buildings}\")\n",
    "\n",
    "### 3. Export ###\n",
    "output_path = DATA_DIRECTORY / \"buildings_along_route.geojson\"\n",
    "buildings_along_route.to_file(output_path, driver=\"GeoJSON\")\n",
    "print(f\"Exported to: {output_path}\")\n"
   ]
  }
 ],
 "metadata": {
  "kernelspec": {
   "display_name": "Python 3 (ipykernel)",
   "language": "python",
   "name": "python3"
  },
  "language_info": {
   "codemirror_mode": {
    "name": "ipython",
    "version": 3
   },
   "file_extension": ".py",
   "mimetype": "text/x-python",
   "name": "python",
   "nbconvert_exporter": "python",
   "pygments_lexer": "ipython3",
   "version": "3.11.9"
  }
 },
 "nbformat": 4,
 "nbformat_minor": 5
}
